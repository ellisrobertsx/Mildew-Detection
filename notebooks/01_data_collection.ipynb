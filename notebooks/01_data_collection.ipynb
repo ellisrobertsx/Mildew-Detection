{
 "cells": [
  {
   "cell_type": "code",
   "execution_count": null,
   "id": "86da1c0e-44cd-4433-8d95-9f6391102481",
   "metadata": {},
   "outputs": [],
   "source": [
    "# Data Colection for Mildew Detection"
   ]
  },
  {
   "cell_type": "code",
   "execution_count": 1,
   "id": "879ec017-04df-4518-bcb4-d73303f50270",
   "metadata": {},
   "outputs": [],
   "source": [
    "import os\n",
    "import pandas as pd"
   ]
  },
  {
   "cell_type": "code",
   "execution_count": 2,
   "id": "e2a10816-def4-4434-a647-bd9497af823e",
   "metadata": {},
   "outputs": [],
   "source": [
    "base_dir = \"../inputs/cherry-leaves_dataset/\"\n",
    "splits = [\"train\", \"validation\", \"test\"]\n",
    "categories = [\"healthy\", \"powdery_mildew\"]"
   ]
  },
  {
   "cell_type": "code",
   "execution_count": 6,
   "id": "3e381b7e-3cee-4cd9-a837-23de117f2d19",
   "metadata": {},
   "outputs": [
    {
     "name": "stdout",
     "output_type": "stream",
     "text": [
      "Image counts per split:\n",
      "train/healthy: 736\n",
      "train/powdery_mildew: 736\n",
      "validation/healthy: 158\n",
      "validation/powdery_mildew: 158\n",
      "test/healthy: 158\n",
      "test/powdery_mildew: 158\n"
     ]
    }
   ],
   "source": [
    "split_counts = {}\n",
    "\n",
    "for split in splits:\n",
    "    for cat in categories:\n",
    "        folder = os.path.join(base_dir, split, cat)\n",
    "        file_count = len(os.listdir(folder))\n",
    "        split_counts[f\"{split}/{cat}\"] = file_count\n",
    "\n",
    "print(\"Image counts per split:\")\n",
    "for key, value in split_counts.items():\n",
    "    print(f\"{key}: {value}\")"
   ]
  },
  {
   "cell_type": "code",
   "execution_count": 8,
   "id": "d3d7d987-79fe-4fb8-acb3-d9760647f222",
   "metadata": {},
   "outputs": [
    {
     "data": {
      "text/html": [
       "<div>\n",
       "<style scoped>\n",
       "    .dataframe tbody tr th:only-of-type {\n",
       "        vertical-align: middle;\n",
       "    }\n",
       "\n",
       "    .dataframe tbody tr th {\n",
       "        vertical-align: top;\n",
       "    }\n",
       "\n",
       "    .dataframe thead th {\n",
       "        text-align: right;\n",
       "    }\n",
       "</style>\n",
       "<table border=\"1\" class=\"dataframe\">\n",
       "  <thead>\n",
       "    <tr style=\"text-align: right;\">\n",
       "      <th></th>\n",
       "      <th>Split/Category</th>\n",
       "      <th>Count</th>\n",
       "    </tr>\n",
       "  </thead>\n",
       "  <tbody>\n",
       "    <tr>\n",
       "      <th>0</th>\n",
       "      <td>train/healthy</td>\n",
       "      <td>736</td>\n",
       "    </tr>\n",
       "    <tr>\n",
       "      <th>1</th>\n",
       "      <td>train/powdery_mildew</td>\n",
       "      <td>736</td>\n",
       "    </tr>\n",
       "    <tr>\n",
       "      <th>2</th>\n",
       "      <td>validation/healthy</td>\n",
       "      <td>158</td>\n",
       "    </tr>\n",
       "    <tr>\n",
       "      <th>3</th>\n",
       "      <td>validation/powdery_mildew</td>\n",
       "      <td>158</td>\n",
       "    </tr>\n",
       "    <tr>\n",
       "      <th>4</th>\n",
       "      <td>test/healthy</td>\n",
       "      <td>158</td>\n",
       "    </tr>\n",
       "    <tr>\n",
       "      <th>5</th>\n",
       "      <td>test/powdery_mildew</td>\n",
       "      <td>158</td>\n",
       "    </tr>\n",
       "  </tbody>\n",
       "</table>\n",
       "</div>"
      ],
      "text/plain": [
       "              Split/Category  Count\n",
       "0              train/healthy    736\n",
       "1       train/powdery_mildew    736\n",
       "2         validation/healthy    158\n",
       "3  validation/powdery_mildew    158\n",
       "4               test/healthy    158\n",
       "5        test/powdery_mildew    158"
      ]
     },
     "metadata": {},
     "output_type": "display_data"
    }
   ],
   "source": [
    "df_splits = pd.DataFrame(list(split_counts.items()), columns=[\"Split/Category\", \"Count\"])\n",
    "display(df_splits)"
   ]
  },
  {
   "cell_type": "code",
   "execution_count": null,
   "id": "81a927a6-9e6c-4050-90db-a49711369ecc",
   "metadata": {},
   "outputs": [],
   "source": []
  }
 ],
 "metadata": {
  "kernelspec": {
   "display_name": "Python 3 (ipykernel)",
   "language": "python",
   "name": "python3"
  },
  "language_info": {
   "codemirror_mode": {
    "name": "ipython",
    "version": 3
   },
   "file_extension": ".py",
   "mimetype": "text/x-python",
   "name": "python",
   "nbconvert_exporter": "python",
   "pygments_lexer": "ipython3",
   "version": "3.9.13"
  }
 },
 "nbformat": 4,
 "nbformat_minor": 5
}
