{
 "cells": [
  {
   "cell_type": "code",
   "execution_count": 1,
   "id": "48e0b9a2-5560-4e71-bde0-fa7ca1568c13",
   "metadata": {},
   "outputs": [],
   "source": [
    "# Data Prerocessing for Mildew Detection"
   ]
  },
  {
   "cell_type": "code",
   "execution_count": 2,
   "id": "3299575f-1284-410b-b279-0ca77308e099",
   "metadata": {},
   "outputs": [
    {
     "name": "stdout",
     "output_type": "stream",
     "text": [
      "Image Size: (256, 256)\n"
     ]
    }
   ],
   "source": [
    "import os \n",
    "from PIL import Image \n",
    "\n",
    "sample_path = \"../inputs/cherry-leaves_dataset/train/healthy/0008f3d3-2f85-4973-be9a-1b520b8b59fc___JR_HL 4092_180deg.JPG\"\n",
    "img = Image.open(sample_path)\n",
    "print(f\"Image Size: {img.size}\")"
   ]
  },
  {
   "cell_type": "code",
   "execution_count": 3,
   "id": "55069051-ecb6-4094-96b5-e53e6f0e0f53",
   "metadata": {},
   "outputs": [
    {
     "name": "stdout",
     "output_type": "stream",
     "text": [
      "Resized Image Size: (224, 224)\n"
     ]
    }
   ],
   "source": [
    "resized_img = img.resize((224, 224))\n",
    "print(f\"Resized Image Size: {resized_img.size}\")"
   ]
  },
  {
   "cell_type": "code",
   "execution_count": 4,
   "id": "197d5420-131f-4c7b-ba6c-8e124c15519a",
   "metadata": {},
   "outputs": [
    {
     "name": "stdout",
     "output_type": "stream",
     "text": [
      "Normalized Image Shape: (224, 224, 3)\n",
      "Min/Max Pixel Values: 0.0, 0.9176470588235294\n"
     ]
    }
   ],
   "source": [
    "import numpy as np\n",
    "img_array = np.array(resized_img) / 255.0\n",
    "print(f\"Normalized Image Shape: {img_array.shape}\")\n",
    "print(f\"Min/Max Pixel Values: {img_array.min()}, {img_array.max()}\")"
   ]
  },
  {
   "cell_type": "code",
   "execution_count": 5,
   "id": "cb404320-6f89-431c-a86c-84f3a2e9d21c",
   "metadata": {},
   "outputs": [
    {
     "name": "stdout",
     "output_type": "stream",
     "text": [
      "Image Format: JPEG\n"
     ]
    }
   ],
   "source": [
    "print(f\"Image Format: {img.format}\")"
   ]
  },
  {
   "cell_type": "code",
   "execution_count": 6,
   "id": "f2d2a6a8-bb7a-4816-9ded-4b4a28f531bd",
   "metadata": {},
   "outputs": [
    {
     "name": "stdout",
     "output_type": "stream",
     "text": [
      "Unique Sizes: {(256, 256)}\n",
      "Unique Formats: {'JPEG'}\n"
     ]
    }
   ],
   "source": [
    "folder = \"../inputs/cherry-leaves_dataset/train/healthy\"\n",
    "sizes = []\n",
    "formats = [] \n",
    "\n",
    "for filename in os.listdir(folder):\n",
    "    if filename.endswith(('.jpg', '.JPG', '.jpeg', '.JPEG')):\n",
    "        img_path = os.path.join(folder, filename)\n",
    "        try:\n",
    "            img = Image.open(img_path)\n",
    "            sizes.append(img.size)\n",
    "            formats.append(img.format)\n",
    "            resized = img.resize((224, 224))\n",
    "            normalized = np.array(resized) / 225.0\n",
    "        except Exception as e:\n",
    "            print(f\"Error with {filename}: {e}\")\n",
    "\n",
    "print(f\"Unique Sizes: {set(sizes)}\")\n",
    "print(f\"Unique Formats: {set(formats)}\")"
   ]
  },
  {
   "cell_type": "code",
   "execution_count": 14,
   "id": "a9eb4e34-01f3-475b-b72f-7e0933703e51",
   "metadata": {},
   "outputs": [
    {
     "name": "stdout",
     "output_type": "stream",
     "text": [
      "Total Unique Size: {(256, 256)}\n",
      "Total Unique Formats: {'JPEG'}\n"
     ]
    }
   ],
   "source": [
    "base_dir = \"../inputs/cherry-leaves_dataset/\"\n",
    "splits = [\"train\", \"validation\", \"test\"] \n",
    "categories = [\"healthy\", \"powdery_mildew\"]\n",
    "all_sizes = []\n",
    "all_formats = [] \n",
    "\n",
    "for split in splits:\n",
    "    for cat in categories: \n",
    "        folder = os.path.join(base_dir, split, cat)\n",
    "        for filename in os.listdir(folder):\n",
    "            if filename.endswith(('.jpg', '.JPG', '.jpeg', '.JPEG')):\n",
    "                img_path = os.path.join(folder, filename)\n",
    "                try:\n",
    "                    img = Image.open(img_path)\n",
    "                    all_sizes.append(img.size)\n",
    "                    all_formats.append(img.format)\n",
    "                except Exception as e:\n",
    "                    print(f\"Error with {split}/{cat}/{filename}: {e}\")\n",
    "\n",
    "print(f\"Total Unique Size: {set(all_sizes)}\")\n",
    "print(f\"Total Unique Formats: {set(all_formats)}\")"
   ]
  },
  {
   "cell_type": "code",
   "execution_count": 8,
   "id": "c0eba9d4-7cf2-48c8-9938-059216972bd3",
   "metadata": {},
   "outputs": [
    {
     "ename": "FileNotFoundError",
     "evalue": "[WinError 3] The system cannot find the path specified: '/inputs/cherry-leaves_dataset/validation/powdery_mildew'",
     "output_type": "error",
     "traceback": [
      "\u001b[1;31m---------------------------------------------------------------------------\u001b[0m",
      "\u001b[1;31mFileNotFoundError\u001b[0m                         Traceback (most recent call last)",
      "Cell \u001b[1;32mIn[8], line 5\u001b[0m\n\u001b[0;32m      2\u001b[0m sizes \u001b[38;5;241m=\u001b[39m []\n\u001b[0;32m      3\u001b[0m formats \u001b[38;5;241m=\u001b[39m []\n\u001b[1;32m----> 5\u001b[0m \u001b[38;5;28;01mfor\u001b[39;00m filename \u001b[38;5;129;01min\u001b[39;00m \u001b[43mos\u001b[49m\u001b[38;5;241;43m.\u001b[39;49m\u001b[43mlistdir\u001b[49m\u001b[43m(\u001b[49m\u001b[43mfolder\u001b[49m\u001b[43m)\u001b[49m:\n\u001b[0;32m      6\u001b[0m     \u001b[38;5;28;01mif\u001b[39;00m filename\u001b[38;5;241m.\u001b[39mendswith((\u001b[38;5;124m'\u001b[39m\u001b[38;5;124m.jpg\u001b[39m\u001b[38;5;124m'\u001b[39m, \u001b[38;5;124m'\u001b[39m\u001b[38;5;124m.JPG\u001b[39m\u001b[38;5;124m'\u001b[39m, \u001b[38;5;124m'\u001b[39m\u001b[38;5;124m.jpeg\u001b[39m\u001b[38;5;124m'\u001b[39m, \u001b[38;5;124m'\u001b[39m\u001b[38;5;124m.JPEG\u001b[39m\u001b[38;5;124m'\u001b[39m)):\n\u001b[0;32m      7\u001b[0m         img_path \u001b[38;5;241m=\u001b[39m os\u001b[38;5;241m.\u001b[39mpath\u001b[38;5;241m.\u001b[39mjoin(folder, filename)\n",
      "\u001b[1;31mFileNotFoundError\u001b[0m: [WinError 3] The system cannot find the path specified: '/inputs/cherry-leaves_dataset/validation/powdery_mildew'"
     ]
    }
   ],
   "source": [
    "folder = \"/inputs/cherry-leaves_dataset/validation/powdery_mildew\"\n",
    "sizes = []\n",
    "formats = []\n",
    "\n",
    "for filename in os.listdir(folder):\n",
    "    if filename.endswith(('.jpg', '.JPG', '.jpeg', '.JPEG')):\n",
    "        img_path = os.path.join(folder, filename)\n",
    "        try:\n",
    "            img = Image.open(img_path)\n",
    "            sizes.append(img.size)\n",
    "            formats.append(img.format)\n",
    "            # Resize and normalize\n",
    "            resized = img.resize((224, 224))\n",
    "            normalized = np.array(resized) / 255.0\n",
    "        except Exception as e:\n",
    "            print(f\"Error with {filename}: {e}\")\n",
    "\n",
    "print(f\"validation/powdery_mildew Unique Sizes: {set(sizes)}\")\n",
    "print(f\"validation/powdery_mildew Unique Formats: {set(formats)}\")\n"
   ]
  },
  {
   "cell_type": "code",
   "execution_count": null,
   "id": "ee106716-93e2-49ce-a2e7-2e5f375c38b2",
   "metadata": {},
   "outputs": [],
   "source": []
  }
 ],
 "metadata": {
  "kernelspec": {
   "display_name": "Python 3 (ipykernel)",
   "language": "python",
   "name": "python3"
  },
  "language_info": {
   "codemirror_mode": {
    "name": "ipython",
    "version": 3
   },
   "file_extension": ".py",
   "mimetype": "text/x-python",
   "name": "python",
   "nbconvert_exporter": "python",
   "pygments_lexer": "ipython3",
   "version": "3.9.13"
  }
 },
 "nbformat": 4,
 "nbformat_minor": 5
}
