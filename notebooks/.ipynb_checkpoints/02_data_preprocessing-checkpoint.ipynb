{
 "cells": [
  {
   "cell_type": "code",
   "execution_count": 1,
   "id": "48e0b9a2-5560-4e71-bde0-fa7ca1568c13",
   "metadata": {},
   "outputs": [],
   "source": [
    "# Data Prerocessing for Mildew Detection"
   ]
  },
  {
   "cell_type": "code",
   "execution_count": 1,
   "id": "3299575f-1284-410b-b279-0ca77308e099",
   "metadata": {},
   "outputs": [
    {
     "name": "stdout",
     "output_type": "stream",
     "text": [
      "Image Size: (256, 256)\n"
     ]
    }
   ],
   "source": [
    "import os \n",
    "from PIL import Image \n",
    "\n",
    "sample_path = \"../inputs/cherry-leaves_dataset/train/healthy/0008f3d3-2f85-4973-be9a-1b520b8b59fc___JR_HL 4092_180deg.JPG\"\n",
    "img = Image.open(sample_path)\n",
    "print(f\"Image Size: {img.size}\")"
   ]
  },
  {
   "cell_type": "code",
   "execution_count": 3,
   "id": "55069051-ecb6-4094-96b5-e53e6f0e0f53",
   "metadata": {},
   "outputs": [
    {
     "name": "stdout",
     "output_type": "stream",
     "text": [
      "Resized Image Size: (224, 224)\n"
     ]
    }
   ],
   "source": [
    "resized_img = img.resize((224, 224))\n",
    "print(f\"Resized Image Size: {resized_img.size}\")"
   ]
  },
  {
   "cell_type": "code",
   "execution_count": null,
   "id": "197d5420-131f-4c7b-ba6c-8e124c15519a",
   "metadata": {},
   "outputs": [],
   "source": []
  }
 ],
 "metadata": {
  "kernelspec": {
   "display_name": "Python 3 (ipykernel)",
   "language": "python",
   "name": "python3"
  },
  "language_info": {
   "codemirror_mode": {
    "name": "ipython",
    "version": 3
   },
   "file_extension": ".py",
   "mimetype": "text/x-python",
   "name": "python",
   "nbconvert_exporter": "python",
   "pygments_lexer": "ipython3",
   "version": "3.9.13"
  }
 },
 "nbformat": 4,
 "nbformat_minor": 5
}
