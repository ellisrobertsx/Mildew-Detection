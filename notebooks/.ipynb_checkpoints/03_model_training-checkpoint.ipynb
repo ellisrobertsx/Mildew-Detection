{
 "cells": [
  {
   "cell_type": "code",
   "execution_count": 1,
   "id": "439f2ecc-d9e8-4a26-899f-f2a02b23d674",
   "metadata": {},
   "outputs": [
    {
     "name": "stdout",
     "output_type": "stream",
     "text": [
      "Train dataset size: 1472\n",
      "Validation dataset size: 316\n",
      "Test dataset size: 316\n"
     ]
    }
   ],
   "source": [
    "import os\n",
    "import numpy as np\n",
    "from PIL import Image\n",
    "import torch\n",
    "import torch.nn as nn\n",
    "import torch.optim as optim\n",
    "from torch.utils.data import Dataset, DataLoader\n",
    "from torchvision import transforms\n",
    "\n",
    "class CherryLeavesDataset(Dataset):\n",
    "    def __init__(self, root_dir, split, category, transform=None):\n",
    "        self.root_dir = os.path.join(root_dir, split, category)\n",
    "        self.transform = transform\n",
    "        self.images = [f for f in os.listdir(self.root_dir) if f.endswith(('.jpg', '.JPG', '.jpeg', '.JPEG'))]\n",
    "        self.labels = 0 if category == \"healthy\" else 1  # 0 for healthy, 1 for powdery_mildew\n",
    "\n",
    "    def __len__(self):\n",
    "        return len(self.images)\n",
    "\n",
    "    def __getitem__(self, idx):\n",
    "        img_path = os.path.join(self.root_dir, self.images[idx])\n",
    "        image = Image.open(img_path).convert('RGB')\n",
    "        if self.transform:\n",
    "            image = self.transform(image)\n",
    "        return image, self.labels\n",
    "\n",
    "transform = transforms.Compose([\n",
    "    transforms.ToTensor(),  # Convert to tensor, already normalized [0,1] in 02\n",
    "])\n",
    "\n",
    "base_dir = \"../inputs/cherry-leaves_dataset/\"\n",
    "\n",
    "train_healthy = CherryLeavesDataset(base_dir, \"train\", \"healthy\", transform)\n",
    "train_mildew = CherryLeavesDataset(base_dir, \"train\", \"powdery_mildew\", transform)\n",
    "val_healthy = CherryLeavesDataset(base_dir, \"validation\", \"healthy\", transform)\n",
    "val_mildew = CherryLeavesDataset(base_dir, \"validation\", \"powdery_mildew\", transform)\n",
    "test_healthy = CherryLeavesDataset(base_dir, \"test\", \"healthy\", transform)\n",
    "test_mildew = CherryLeavesDataset(base_dir, \"test\", \"powdery_mildew\", transform)\n",
    "\n",
    "train_dataset = torch.utils.data.ConcatDataset([train_healthy, train_mildew])\n",
    "val_dataset = torch.utils.data.ConcatDataset([val_healthy, val_mildew])\n",
    "test_dataset = torch.utils.data.ConcatDataset([test_healthy, test_mildew])\n",
    "\n",
    "train_loader = DataLoader(train_dataset, batch_size=32, shuffle=True)\n",
    "val_loader = DataLoader(val_dataset, batch_size=32, shuffle=False)\n",
    "test_loader = DataLoader(test_dataset, batch_size=32, shuffle=False)\n",
    "\n",
    "print(f\"Train dataset size: {len(train_dataset)}\")\n",
    "print(f\"Validation dataset size: {len(val_dataset)}\")\n",
    "print(f\"Test dataset size: {len(test_dataset)}\")"
   ]
  },
  {
   "cell_type": "code",
   "execution_count": 2,
   "id": "0414f42f-606c-4ab8-846a-444501f963fa",
   "metadata": {},
   "outputs": [
    {
     "name": "stdout",
     "output_type": "stream",
     "text": [
      "Model, loss, and optimizer initialized!\n"
     ]
    }
   ],
   "source": [
    "class MildewCNN(nn.Module):\n",
    "    def __init__(self):\n",
    "        super(MildewCNN, self).__init__()\n",
    "        self.conv1 = nn.Conv2d(3, 16, 3, padding=1)  # Input: 3 channels (RGB), Output: 16 filters\n",
    "        self.pool = nn.MaxPool2d(2, 2)  # Reduce spatial dimensions by 2\n",
    "        self.conv2 = nn.Conv2d(16, 32, 3, padding=1)  # Output: 32 filters\n",
    "        self.fc1 = nn.Linear(32 * 64 * 64, 120)  # Flatten to 32 * 64 * 64 = 131,072\n",
    "        self.fc2 = nn.Linear(120, 84)\n",
    "        self.fc3 = nn.Linear(84, 2)  # 2 classes: healthy, powdery_mildew\n",
    "\n",
    "    def forward(self, x):\n",
    "        x = self.pool(torch.relu(self.conv1(x)))\n",
    "        x = self.pool(torch.relu(self.conv2(x)))\n",
    "        x = x.view(x.size(0), -1)  # Flatten dynamically, should be [batch_size, 131,072]\n",
    "        x = torch.relu(self.fc1(x))\n",
    "        x = torch.relu(self.fc2(x))\n",
    "        x = self.fc3(x)\n",
    "        return x\n",
    "\n",
    "model = MildewCNN()\n",
    "criterion = nn.CrossEntropyLoss()\n",
    "optimizer = optim.Adam(model.parameters(), lr=0.001)\n",
    "print(\"Model, loss, and optimizer initialized!\")\n",
    "\n",
    "\n"
   ]
  },
  {
   "cell_type": "code",
   "execution_count": 3,
   "id": "81a4c41b-f04b-4d47-85e9-427ed3ad13cb",
   "metadata": {},
   "outputs": [
    {
     "name": "stdout",
     "output_type": "stream",
     "text": [
      "Epoch [1/1], Loss: 0.5592, Accuracy: 70.92%\n"
     ]
    }
   ],
   "source": [
    "def train_model(model, train_loader, criterion, optimizer, num_epochs=1):\n",
    "    model.train()\n",
    "    for epoch in range(num_epochs):\n",
    "        running_loss = 0.0\n",
    "        correct = 0\n",
    "        total = 0\n",
    "        for inputs, labels in train_loader:\n",
    "            optimizer.zero_grad()\n",
    "            outputs = model(inputs)\n",
    "            loss = criterion(outputs, labels)\n",
    "            loss.backward()\n",
    "            optimizer.step()\n",
    "            running_loss += loss.item()\n",
    "            _, predicted = torch.max(outputs.data, 1)\n",
    "            total += labels.size(0)\n",
    "            correct += (predicted == labels).sum().item()\n",
    "        epoch_loss = running_loss / len(train_loader)\n",
    "        epoch_acc = 100 * correct / total\n",
    "        print(f'Epoch [{epoch+1}/{num_epochs}], Loss: {epoch_loss:.4f}, Accuracy: {epoch_acc:.2f}%')\n",
    "\n",
    "train_model(model, train_loader, criterion, optimizer)"
   ]
  },
  {
   "cell_type": "code",
   "execution_count": 4,
   "id": "6bdae8c8-e981-41bb-9584-d2ca78ee55e9",
   "metadata": {},
   "outputs": [
    {
     "name": "stdout",
     "output_type": "stream",
     "text": [
      "Validation Loss: 0.1957, Validation Accuracy: 94.30%\n"
     ]
    }
   ],
   "source": [
    "def validate_model(model, val_loader, criterion):\n",
    "    model.eval()\n",
    "    running_loss = 0.0\n",
    "    correct = 0\n",
    "    total = 0\n",
    "    with torch.no_grad():\n",
    "        for inputs, labels in val_loader:\n",
    "            outputs = model(inputs)\n",
    "            loss = criterion(outputs, labels)\n",
    "            running_loss += loss.item()\n",
    "            _, predicted = torch.max(outputs.data, 1)\n",
    "            total += labels.size(0)\n",
    "            correct += (predicted == labels).sum().item()\n",
    "    val_loss = running_loss / len(val_loader)\n",
    "    val_acc = 100 * correct / total\n",
    "    print(f'Validation Loss: {val_loss:.4f}, Validation Accuracy: {val_acc:.2f}%')\n",
    "\n",
    "validate_model(model, val_loader, criterion)"
   ]
  },
  {
   "cell_type": "code",
   "execution_count": 5,
   "id": "01598ee0-b8b1-48d8-86e7-ecf300d90bbc",
   "metadata": {},
   "outputs": [
    {
     "name": "stdout",
     "output_type": "stream",
     "text": [
      "Epoch [1/5], Loss: 0.0982, Accuracy: 96.88%\n",
      "Epoch [2/5], Loss: 0.0592, Accuracy: 97.83%\n",
      "Epoch [3/5], Loss: 0.0141, Accuracy: 99.59%\n",
      "Epoch [4/5], Loss: 0.0080, Accuracy: 99.86%\n",
      "Epoch [5/5], Loss: 0.0042, Accuracy: 100.00%\n"
     ]
    }
   ],
   "source": [
    "train_model(model, train_loader, criterion, optimizer, num_epochs=5)"
   ]
  },
  {
   "cell_type": "code",
   "execution_count": 6,
   "id": "419e731b-417f-4832-9514-f3454f3f46a0",
   "metadata": {},
   "outputs": [
    {
     "name": "stdout",
     "output_type": "stream",
     "text": [
      "Test Loss: 0.0237, Test Accuracy: 99.37%\n"
     ]
    }
   ],
   "source": [
    "def test_model(model, test_loader, criterion):\n",
    "    model.eval()\n",
    "    running_loss = 0.0\n",
    "    correct = 0\n",
    "    total = 0\n",
    "    with torch.no_grad():\n",
    "        for inputs, labels in test_loader:\n",
    "            outputs = model(inputs)\n",
    "            loss = criterion(outputs, labels)\n",
    "            running_loss += loss.item()\n",
    "            _, predicted = torch.max(outputs.data, 1)\n",
    "            total += labels.size(0)\n",
    "            correct += (predicted == labels).sum().item()\n",
    "    test_loss = running_loss / len(test_loader)\n",
    "    test_acc = 100 * correct / total\n",
    "    print(f'Test Loss: {test_loss:.4f}, Test Accuracy: {test_acc:.2f}%')\n",
    "\n",
    "test_model(model, test_loader, criterion)"
   ]
  },
  {
   "cell_type": "code",
   "execution_count": null,
   "id": "f890cbd0-b963-4027-95e6-536057ebb982",
   "metadata": {},
   "outputs": [],
   "source": []
  }
 ],
 "metadata": {
  "kernelspec": {
   "display_name": "Python 3 (ipykernel)",
   "language": "python",
   "name": "python3"
  },
  "language_info": {
   "codemirror_mode": {
    "name": "ipython",
    "version": 3
   },
   "file_extension": ".py",
   "mimetype": "text/x-python",
   "name": "python",
   "nbconvert_exporter": "python",
   "pygments_lexer": "ipython3",
   "version": "3.9.13"
  }
 },
 "nbformat": 4,
 "nbformat_minor": 5
}
